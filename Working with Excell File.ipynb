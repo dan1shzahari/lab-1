{
 "cells": [
  {
   "cell_type": "code",
   "execution_count": 1,
   "id": "240e766b",
   "metadata": {},
   "outputs": [
    {
     "name": "stdout",
     "output_type": "stream",
     "text": [
      "Comments extracted and saved to comments.txt\n"
     ]
    }
   ],
   "source": [
    "import pandas as pd \n",
    "# Define the Excel file name \n",
    "excel_file = 'sample_data.xlsx' \n",
    "# Define the output text file name \n",
    "output_file = 'comments.txt' \n",
    "# Read the Excel file \n",
    "df = pd.read_excel(excel_file) \n",
    "# Extract the 'comments' column \n",
    "comments = df['comments'] \n",
    "# Open the output text file for writing \n",
    "with open(output_file, 'w') as txtfile: \n",
    "    # Write each comment to the text file \n",
    "    for comment in comments: \n",
    "        txtfile.write(str(comment) + '\\n') \n",
    "        \n",
    "print(\"Comments extracted and saved to\", output_file)"
   ]
  },
  {
   "cell_type": "code",
   "execution_count": 2,
   "id": "0db76b20",
   "metadata": {},
   "outputs": [
    {
     "data": {
      "text/plain": [
       "0    Comment1\n",
       "1    Comment2\n",
       "2    Comment3\n",
       "3    Comment4\n",
       "4    Comment5\n",
       "Name: comments, dtype: object"
      ]
     },
     "execution_count": 2,
     "metadata": {},
     "output_type": "execute_result"
    }
   ],
   "source": [
    "comments\n"
   ]
  },
  {
   "cell_type": "code",
   "execution_count": null,
   "id": "d2d359b1",
   "metadata": {},
   "outputs": [],
   "source": []
  }
 ],
 "metadata": {
  "kernelspec": {
   "display_name": "Python 3 (ipykernel)",
   "language": "python",
   "name": "python3"
  },
  "language_info": {
   "codemirror_mode": {
    "name": "ipython",
    "version": 3
   },
   "file_extension": ".py",
   "mimetype": "text/x-python",
   "name": "python",
   "nbconvert_exporter": "python",
   "pygments_lexer": "ipython3",
   "version": "3.11.5"
  }
 },
 "nbformat": 4,
 "nbformat_minor": 5
}
